{
 "cells": [
  {
   "cell_type": "markdown",
   "metadata": {
    "toc": true
   },
   "source": [
    "<h1>Содержание<span class=\"tocSkip\"></span></h1>\n",
    "<div class=\"toc\"><ul class=\"toc-item\"><li><span><a href=\"#Используемые-библиотеки\" data-toc-modified-id=\"Используемые-библиотеки-1\"><span class=\"toc-item-num\">1&nbsp;&nbsp;</span>Используемые библиотеки</a></span></li><li><span><a href=\"#Загрузка-данных\" data-toc-modified-id=\"Загрузка-данных-2\"><span class=\"toc-item-num\">2&nbsp;&nbsp;</span>Загрузка данных</a></span></li><li><span><a href=\"#Анализ-и-обработка-данных\" data-toc-modified-id=\"Анализ-и-обработка-данных-3\"><span class=\"toc-item-num\">3&nbsp;&nbsp;</span>Анализ и обработка данных</a></span></li><li><span><a href=\"#Предобучение\" data-toc-modified-id=\"Предобучение-4\"><span class=\"toc-item-num\">4&nbsp;&nbsp;</span>Предобучение</a></span></li><li><span><a href=\"#Токенизация\" data-toc-modified-id=\"Токенизация-5\"><span class=\"toc-item-num\">5&nbsp;&nbsp;</span>Токенизация</a></span></li><li><span><a href=\"#Эмбеддинг\" data-toc-modified-id=\"Эмбеддинг-6\"><span class=\"toc-item-num\">6&nbsp;&nbsp;</span>Эмбеддинг</a></span></li><li><span><a href=\"#Разделение-данных-на-выборки\" data-toc-modified-id=\"Разделение-данных-на-выборки-7\"><span class=\"toc-item-num\">7&nbsp;&nbsp;</span>Разделение данных на выборки</a></span></li><li><span><a href=\"#Выбор-и-обучение-модели\" data-toc-modified-id=\"Выбор-и-обучение-модели-8\"><span class=\"toc-item-num\">8&nbsp;&nbsp;</span>Выбор и обучение модели</a></span></li><li><span><a href=\"#Тестирование-модели\" data-toc-modified-id=\"Тестирование-модели-9\"><span class=\"toc-item-num\">9&nbsp;&nbsp;</span>Тестирование модели</a></span></li><li><span><a href=\"#Заключение\" data-toc-modified-id=\"Заключение-10\"><span class=\"toc-item-num\">10&nbsp;&nbsp;</span>Заключение</a></span></li></ul></div>"
   ]
  },
  {
   "cell_type": "markdown",
   "metadata": {
    "deletable": false,
    "editable": false,
    "tags": [
     "045a5103-bb0f-4fb7-835a-238e053b2157"
    ]
   },
   "source": [
    "# Классификация на эмбеддингах"
   ]
  },
  {
   "cell_type": "markdown",
   "metadata": {},
   "source": [
    "# Анализ текстов"
   ]
  },
  {
   "cell_type": "markdown",
   "metadata": {},
   "source": [
    "**Цель и задача проекта**"
   ]
  },
  {
   "cell_type": "markdown",
   "metadata": {},
   "source": [
    "Интернет-магазин запускает новый сервис. Теперь пользователи могут редактировать и дополнять описания товаров, как в вики-сообществах. То есть клиенты предлагают свои правки и комментируют изменения других. Требуется инструмент, который будет искать токсичные комментарии и отправлять их на модерацию.\n",
    "\n",
    "Необходимо обучить модель классифицировать комментарии на позитивные и негативные. В нашем распоряжении набор данных с разметкой о токсичности правок.\n",
    "Модель со значением метрики качества F1 не меньше 0.75. "
   ]
  },
  {
   "cell_type": "markdown",
   "metadata": {},
   "source": [
    "## Используемые библиотеки"
   ]
  },
  {
   "cell_type": "code",
   "execution_count": 247,
   "metadata": {},
   "outputs": [],
   "source": [
    "import numpy as np\n",
    "import pandas as pd\n",
    "import torch # обработки естественного текста и компьютерного зрения.\n",
    "import transformers\n",
    "from tqdm import notebook # подключим библиотеку tqdm (араб. taqadum, تقدّم, «прогресс»). \n",
    "# Она нужна, чтобы наглядно показать индикатор прогресса. В Jupyter применим функцию notebook() из этой библиотеки\n",
    "from sklearn.linear_model import LogisticRegression\n",
    "from sklearn.model_selection import cross_val_score\n",
    "from sklearn.model_selection import train_test_split\n",
    "from sklearn.metrics import accuracy_score\n",
    "from transformers import BertModel, BertTokenizer"
   ]
  },
  {
   "cell_type": "markdown",
   "metadata": {},
   "source": [
    "## Загрузка данных"
   ]
  },
  {
   "cell_type": "code",
   "execution_count": 265,
   "metadata": {},
   "outputs": [],
   "source": [
    "df_tweets = pd.read_csv('tweets.csv')\n",
    "df_tweets = df_tweets.sample(400).reset_index(drop=True)\n"
   ]
  },
  {
   "cell_type": "markdown",
   "metadata": {},
   "source": [
    "## Анализ и обработка данных"
   ]
  },
  {
   "cell_type": "code",
   "execution_count": 249,
   "metadata": {},
   "outputs": [
    {
     "data": {
      "text/plain": [
       "0      0\n",
       "1      0\n",
       "2      0\n",
       "3      0\n",
       "4      0\n",
       "      ..\n",
       "395    1\n",
       "396    0\n",
       "397    0\n",
       "398    1\n",
       "399    1\n",
       "Name: positive, Length: 400, dtype: int64"
      ]
     },
     "execution_count": 249,
     "metadata": {},
     "output_type": "execute_result"
    }
   ],
   "source": [
    "df_tweets['positive']"
   ]
  },
  {
   "cell_type": "code",
   "execution_count": 250,
   "metadata": {},
   "outputs": [
    {
     "data": {
      "text/html": [
       "<div>\n",
       "<style scoped>\n",
       "    .dataframe tbody tr th:only-of-type {\n",
       "        vertical-align: middle;\n",
       "    }\n",
       "\n",
       "    .dataframe tbody tr th {\n",
       "        vertical-align: top;\n",
       "    }\n",
       "\n",
       "    .dataframe thead th {\n",
       "        text-align: right;\n",
       "    }\n",
       "</style>\n",
       "<table border=\"1\" class=\"dataframe\">\n",
       "  <thead>\n",
       "    <tr style=\"text-align: right;\">\n",
       "      <th></th>\n",
       "      <th>text</th>\n",
       "      <th>positive</th>\n",
       "    </tr>\n",
       "  </thead>\n",
       "  <tbody>\n",
       "    <tr>\n",
       "      <th>0</th>\n",
       "      <td>Мой авторитет среди одногруппников на нуле:(  ...</td>\n",
       "      <td>0</td>\n",
       "    </tr>\n",
       "    <tr>\n",
       "      <th>1</th>\n",
       "      <td>Впервые за долгое время матч буду смотреть дома(</td>\n",
       "      <td>0</td>\n",
       "    </tr>\n",
       "    <tr>\n",
       "      <th>2</th>\n",
       "      <td>Обо мне...((( “@trollgnet: Сначала ты отдаёшьс...</td>\n",
       "      <td>0</td>\n",
       "    </tr>\n",
       "    <tr>\n",
       "      <th>3</th>\n",
       "      <td>такое настроение странное- ничего не хочу, ник...</td>\n",
       "      <td>0</td>\n",
       "    </tr>\n",
       "    <tr>\n",
       "      <th>4</th>\n",
       "      <td>Раздайте кто нить пожалуйста скорость ну о ч м...</td>\n",
       "      <td>0</td>\n",
       "    </tr>\n",
       "    <tr>\n",
       "      <th>...</th>\n",
       "      <td>...</td>\n",
       "      <td>...</td>\n",
       "    </tr>\n",
       "    <tr>\n",
       "      <th>395</th>\n",
       "      <td>Идёшь на концерт известного артиста? Не забыва...</td>\n",
       "      <td>1</td>\n",
       "    </tr>\n",
       "    <tr>\n",
       "      <th>396</th>\n",
       "      <td>@Len_o_k он не идет на контакт ( ахаха http://...</td>\n",
       "      <td>0</td>\n",
       "    </tr>\n",
       "    <tr>\n",
       "      <th>397</th>\n",
       "      <td>Пятеро жителей Чечни задержаны за драку у кино...</td>\n",
       "      <td>0</td>\n",
       "    </tr>\n",
       "    <tr>\n",
       "      <th>398</th>\n",
       "      <td>Опааа)) Нашлось фото с Глендейла ахахах http:/...</td>\n",
       "      <td>1</td>\n",
       "    </tr>\n",
       "    <tr>\n",
       "      <th>399</th>\n",
       "      <td>я бы не прочь еще раз увидеть этого мужика. мо...</td>\n",
       "      <td>1</td>\n",
       "    </tr>\n",
       "  </tbody>\n",
       "</table>\n",
       "<p>400 rows × 2 columns</p>\n",
       "</div>"
      ],
      "text/plain": [
       "                                                  text  positive\n",
       "0    Мой авторитет среди одногруппников на нуле:(  ...         0\n",
       "1     Впервые за долгое время матч буду смотреть дома(         0\n",
       "2    Обо мне...((( “@trollgnet: Сначала ты отдаёшьс...         0\n",
       "3    такое настроение странное- ничего не хочу, ник...         0\n",
       "4    Раздайте кто нить пожалуйста скорость ну о ч м...         0\n",
       "..                                                 ...       ...\n",
       "395  Идёшь на концерт известного артиста? Не забыва...         1\n",
       "396  @Len_o_k он не идет на контакт ( ахаха http://...         0\n",
       "397  Пятеро жителей Чечни задержаны за драку у кино...         0\n",
       "398  Опааа)) Нашлось фото с Глендейла ахахах http:/...         1\n",
       "399  я бы не прочь еще раз увидеть этого мужика. мо...         1\n",
       "\n",
       "[400 rows x 2 columns]"
      ]
     },
     "execution_count": 250,
     "metadata": {},
     "output_type": "execute_result"
    }
   ],
   "source": [
    "df_tweets"
   ]
  },
  {
   "cell_type": "code",
   "execution_count": 251,
   "metadata": {},
   "outputs": [
    {
     "name": "stdout",
     "output_type": "stream",
     "text": [
      "<class 'pandas.core.frame.DataFrame'>\n",
      "RangeIndex: 400 entries, 0 to 399\n",
      "Data columns (total 2 columns):\n",
      " #   Column    Non-Null Count  Dtype \n",
      "---  ------    --------------  ----- \n",
      " 0   text      400 non-null    object\n",
      " 1   positive  400 non-null    int64 \n",
      "dtypes: int64(1), object(1)\n",
      "memory usage: 6.4+ KB\n"
     ]
    }
   ],
   "source": [
    "df_tweets.info()"
   ]
  },
  {
   "cell_type": "markdown",
   "metadata": {},
   "source": [
    "Пропусков нет. Тип признака positive изменим с целью экономии памяти."
   ]
  },
  {
   "cell_type": "code",
   "execution_count": 252,
   "metadata": {},
   "outputs": [
    {
     "name": "stdout",
     "output_type": "stream",
     "text": [
      "<class 'pandas.core.frame.DataFrame'>\n",
      "RangeIndex: 400 entries, 0 to 399\n",
      "Data columns (total 2 columns):\n",
      " #   Column    Non-Null Count  Dtype \n",
      "---  ------    --------------  ----- \n",
      " 0   text      400 non-null    object\n",
      " 1   positive  400 non-null    bool  \n",
      "dtypes: bool(1), object(1)\n",
      "memory usage: 3.6+ KB\n"
     ]
    }
   ],
   "source": [
    "df_tweets['positive'] = df_tweets['positive'].astype('bool')\n",
    "df_tweets.info()"
   ]
  },
  {
   "cell_type": "markdown",
   "metadata": {},
   "source": [
    "## Предобучение"
   ]
  },
  {
   "cell_type": "code",
   "execution_count": 253,
   "metadata": {},
   "outputs": [
    {
     "name": "stderr",
     "output_type": "stream",
     "text": [
      "Some weights of the model checkpoint at DeepPavlov/rubert-base-cased were not used when initializing BertModel: ['cls.predictions.transform.LayerNorm.bias', 'cls.seq_relationship.bias', 'cls.seq_relationship.weight', 'cls.predictions.transform.dense.bias', 'cls.predictions.transform.dense.weight', 'cls.predictions.decoder.weight', 'cls.predictions.decoder.bias', 'cls.predictions.bias', 'cls.predictions.transform.LayerNorm.weight']\n",
      "- This IS expected if you are initializing BertModel from the checkpoint of a model trained on another task or with another architecture (e.g. initializing a BertForSequenceClassification model from a BertForPreTraining model).\n",
      "- This IS NOT expected if you are initializing BertModel from the checkpoint of a model that you expect to be exactly identical (initializing a BertForSequenceClassification model from a BertForSequenceClassification model).\n"
     ]
    }
   ],
   "source": [
    "model_name = 'DeepPavlov/rubert-base-cased'\n",
    "\n",
    "model = BertModel.from_pretrained(model_name)"
   ]
  },
  {
   "cell_type": "markdown",
   "metadata": {},
   "source": [
    "## Токенизация"
   ]
  },
  {
   "cell_type": "markdown",
   "metadata": {},
   "source": [
    "Инициализируем токенизатор как объект класса BertTokenizer()."
   ]
  },
  {
   "cell_type": "code",
   "execution_count": 254,
   "metadata": {},
   "outputs": [],
   "source": [
    "tokenizer = BertTokenizer.from_pretrained(model_name)"
   ]
  },
  {
   "cell_type": "markdown",
   "metadata": {},
   "source": [
    "Преобразуем текст в номера токенов из словаря методом encode(). Для корректной работы модели мы указали аргумент add_special_tokens (англ. «добавить специальные токены»), равный True. Это значит, что к любому преобразуемому тексту добавляется токен начала (101) и токен конца текста (102). "
   ]
  },
  {
   "cell_type": "code",
   "execution_count": 255,
   "metadata": {},
   "outputs": [],
   "source": [
    "tokenized = df_tweets['text'].apply(\n",
    "    lambda x: tokenizer.encode(x, add_special_tokens=True))\n",
    "\n",
    "max_len = 0\n",
    "for i in tokenized.values:\n",
    "    if len(i) > max_len:\n",
    "        max_len = len(i)"
   ]
  },
  {
   "cell_type": "markdown",
   "metadata": {},
   "source": [
    "Применим метод padding (англ. «отступ»), чтобы после токенизации длины исходных текстов в корпусе были равными. Только при таком условии будет работать модель BERT. Пусть стандартной длиной вектора n будет длина наибольшего во всём датасете вектора. Остальные векторы дополним нулями:"
   ]
  },
  {
   "cell_type": "code",
   "execution_count": 256,
   "metadata": {},
   "outputs": [],
   "source": [
    "padded = np.array([i + [0]*(max_len - len(i)) for i in tokenized.values])"
   ]
  },
  {
   "cell_type": "markdown",
   "metadata": {},
   "source": [
    "Теперь поясним модели, что нули не несут значимой информации. Это нужно для компоненты модели, которая называется «внимание» (англ. attention). Отбросим эти токены и «создадим маску» для действительно важных токенов, то есть укажем нулевые и не нулевые значения:"
   ]
  },
  {
   "cell_type": "code",
   "execution_count": 257,
   "metadata": {},
   "outputs": [],
   "source": [
    "attention_mask = np.where(padded != 0, 1, 0)"
   ]
  },
  {
   "cell_type": "markdown",
   "metadata": {},
   "source": [
    "## Эмбеддинг"
   ]
  },
  {
   "cell_type": "markdown",
   "metadata": {},
   "source": [
    "Эмбеддинги модель BERT создаёт батчами. Чтобы хватило оперативной памяти, сделаем размер батча = 100."
   ]
  },
  {
   "cell_type": "code",
   "execution_count": 258,
   "metadata": {},
   "outputs": [],
   "source": [
    "batch_size = 100"
   ]
  },
  {
   "cell_type": "markdown",
   "metadata": {},
   "source": [
    "Сделаем цикл по батчам. Отображать прогресс будет функция notebook()\n",
    "Преобразуем данные в формат тензоров (англ. tensor) — многомерных векторов в библиотеке torch. Тип данных LongTensor (англ. «длинный тензор») хранит числа в «длинном формате», то есть выделяет на каждое число 64 бита."
   ]
  },
  {
   "cell_type": "code",
   "execution_count": 259,
   "metadata": {},
   "outputs": [
    {
     "data": {
      "application/vnd.jupyter.widget-view+json": {
       "model_id": "16739b3353564a0fa3a414fda6699eae",
       "version_major": 2,
       "version_minor": 0
      },
      "text/plain": [
       "  0%|          | 0/4 [00:00<?, ?it/s]"
      ]
     },
     "metadata": {},
     "output_type": "display_data"
    }
   ],
   "source": [
    "embeddings = []\n",
    "for i in notebook.tqdm(range(padded.shape[0] // batch_size)):\n",
    "        batch = torch.LongTensor(padded[batch_size*i:batch_size*(i+1)]) \n",
    "        attention_mask_batch = torch.LongTensor(attention_mask[batch_size*i:batch_size*(i+1)])\n",
    "        # Для ускорения вычисления функцией no_grad() (англ. no gradient, «нет градиента») в библиотеке torch \n",
    "        # укажем, что градиенты не нужны: модель BERT обучать не будем.\n",
    "        with torch.no_grad():\n",
    "            batch_embeddings = model(batch, attention_mask=attention_mask_batch)# Чтобы получить эмбеддинги \n",
    "            # для батча, передадим модели данные и маску\n",
    "        # Из полученного тензора извлечём нужные элементы и добавим в список всех эмбеддингов:\n",
    "        embeddings.append(batch_embeddings[0][:,0,:].numpy())#преобразуем элементы методом numpy()к типу numpy.array"
   ]
  },
  {
   "cell_type": "code",
   "execution_count": 260,
   "metadata": {},
   "outputs": [],
   "source": [
    "# Соберём все эмбеддинги в матрицу признаков вызовом функции concatenate():\n",
    "features = np.concatenate(embeddings)"
   ]
  },
  {
   "cell_type": "markdown",
   "metadata": {},
   "source": [
    "## Разделение данных на выборки"
   ]
  },
  {
   "cell_type": "code",
   "execution_count": 261,
   "metadata": {},
   "outputs": [],
   "source": [
    "features_train, features_test, target_train, target_test = train_test_split(\n",
    "    features, df_tweets['positive'], test_size=0.5, random_state=12345)"
   ]
  },
  {
   "cell_type": "code",
   "execution_count": 262,
   "metadata": {},
   "outputs": [
    {
     "name": "stdout",
     "output_type": "stream",
     "text": [
      "[[ 0.13274057 -0.04342028  0.56878644 ...  0.34261847  0.52688426\n",
      "  -0.13554862]\n",
      " [-0.12058353 -0.14904153 -0.24008556 ...  0.25007153  0.35169622\n",
      "  -0.24301112]\n",
      " [ 0.07326889 -0.21501686  0.43821698 ...  1.1929369   0.9278865\n",
      "   0.00945342]\n",
      " ...\n",
      " [ 0.02973904 -0.2922577  -0.0863848  ...  0.75324607  0.4777244\n",
      "  -0.08358181]\n",
      " [-0.03922073 -0.46211317  0.82884085 ...  0.81092113  0.57842416\n",
      "  -0.23604804]\n",
      " [ 0.10130152  0.00850299 -0.05558029 ...  0.10352381 -0.01167706\n",
      "  -0.15645406]]\n"
     ]
    },
    {
     "data": {
      "text/plain": [
       "(200, 768)"
      ]
     },
     "execution_count": 262,
     "metadata": {},
     "output_type": "execute_result"
    }
   ],
   "source": [
    "print(features_train)\n",
    "features_train.shape"
   ]
  },
  {
   "cell_type": "markdown",
   "metadata": {},
   "source": [
    "## Выбор и обучение модели"
   ]
  },
  {
   "cell_type": "code",
   "execution_count": 263,
   "metadata": {},
   "outputs": [
    {
     "data": {
      "text/html": [
       "<style>#sk-container-id-3 {color: black;background-color: white;}#sk-container-id-3 pre{padding: 0;}#sk-container-id-3 div.sk-toggleable {background-color: white;}#sk-container-id-3 label.sk-toggleable__label {cursor: pointer;display: block;width: 100%;margin-bottom: 0;padding: 0.3em;box-sizing: border-box;text-align: center;}#sk-container-id-3 label.sk-toggleable__label-arrow:before {content: \"▸\";float: left;margin-right: 0.25em;color: #696969;}#sk-container-id-3 label.sk-toggleable__label-arrow:hover:before {color: black;}#sk-container-id-3 div.sk-estimator:hover label.sk-toggleable__label-arrow:before {color: black;}#sk-container-id-3 div.sk-toggleable__content {max-height: 0;max-width: 0;overflow: hidden;text-align: left;background-color: #f0f8ff;}#sk-container-id-3 div.sk-toggleable__content pre {margin: 0.2em;color: black;border-radius: 0.25em;background-color: #f0f8ff;}#sk-container-id-3 input.sk-toggleable__control:checked~div.sk-toggleable__content {max-height: 200px;max-width: 100%;overflow: auto;}#sk-container-id-3 input.sk-toggleable__control:checked~label.sk-toggleable__label-arrow:before {content: \"▾\";}#sk-container-id-3 div.sk-estimator input.sk-toggleable__control:checked~label.sk-toggleable__label {background-color: #d4ebff;}#sk-container-id-3 div.sk-label input.sk-toggleable__control:checked~label.sk-toggleable__label {background-color: #d4ebff;}#sk-container-id-3 input.sk-hidden--visually {border: 0;clip: rect(1px 1px 1px 1px);clip: rect(1px, 1px, 1px, 1px);height: 1px;margin: -1px;overflow: hidden;padding: 0;position: absolute;width: 1px;}#sk-container-id-3 div.sk-estimator {font-family: monospace;background-color: #f0f8ff;border: 1px dotted black;border-radius: 0.25em;box-sizing: border-box;margin-bottom: 0.5em;}#sk-container-id-3 div.sk-estimator:hover {background-color: #d4ebff;}#sk-container-id-3 div.sk-parallel-item::after {content: \"\";width: 100%;border-bottom: 1px solid gray;flex-grow: 1;}#sk-container-id-3 div.sk-label:hover label.sk-toggleable__label {background-color: #d4ebff;}#sk-container-id-3 div.sk-serial::before {content: \"\";position: absolute;border-left: 1px solid gray;box-sizing: border-box;top: 0;bottom: 0;left: 50%;z-index: 0;}#sk-container-id-3 div.sk-serial {display: flex;flex-direction: column;align-items: center;background-color: white;padding-right: 0.2em;padding-left: 0.2em;position: relative;}#sk-container-id-3 div.sk-item {position: relative;z-index: 1;}#sk-container-id-3 div.sk-parallel {display: flex;align-items: stretch;justify-content: center;background-color: white;position: relative;}#sk-container-id-3 div.sk-item::before, #sk-container-id-3 div.sk-parallel-item::before {content: \"\";position: absolute;border-left: 1px solid gray;box-sizing: border-box;top: 0;bottom: 0;left: 50%;z-index: -1;}#sk-container-id-3 div.sk-parallel-item {display: flex;flex-direction: column;z-index: 1;position: relative;background-color: white;}#sk-container-id-3 div.sk-parallel-item:first-child::after {align-self: flex-end;width: 50%;}#sk-container-id-3 div.sk-parallel-item:last-child::after {align-self: flex-start;width: 50%;}#sk-container-id-3 div.sk-parallel-item:only-child::after {width: 0;}#sk-container-id-3 div.sk-dashed-wrapped {border: 1px dashed gray;margin: 0 0.4em 0.5em 0.4em;box-sizing: border-box;padding-bottom: 0.4em;background-color: white;}#sk-container-id-3 div.sk-label label {font-family: monospace;font-weight: bold;display: inline-block;line-height: 1.2em;}#sk-container-id-3 div.sk-label-container {text-align: center;}#sk-container-id-3 div.sk-container {/* jupyter's `normalize.less` sets `[hidden] { display: none; }` but bootstrap.min.css set `[hidden] { display: none !important; }` so we also need the `!important` here to be able to override the default hidden behavior on the sphinx rendered scikit-learn.org. See: https://github.com/scikit-learn/scikit-learn/issues/21755 */display: inline-block !important;position: relative;}#sk-container-id-3 div.sk-text-repr-fallback {display: none;}</style><div id=\"sk-container-id-3\" class=\"sk-top-container\"><div class=\"sk-text-repr-fallback\"><pre>LogisticRegression(max_iter=1000, random_state=12345)</pre><b>In a Jupyter environment, please rerun this cell to show the HTML representation or trust the notebook. <br />On GitHub, the HTML representation is unable to render, please try loading this page with nbviewer.org.</b></div><div class=\"sk-container\" hidden><div class=\"sk-item\"><div class=\"sk-estimator sk-toggleable\"><input class=\"sk-toggleable__control sk-hidden--visually\" id=\"sk-estimator-id-3\" type=\"checkbox\" checked><label for=\"sk-estimator-id-3\" class=\"sk-toggleable__label sk-toggleable__label-arrow\">LogisticRegression</label><div class=\"sk-toggleable__content\"><pre>LogisticRegression(max_iter=1000, random_state=12345)</pre></div></div></div></div></div>"
      ],
      "text/plain": [
       "LogisticRegression(max_iter=1000, random_state=12345)"
      ]
     },
     "execution_count": 263,
     "metadata": {},
     "output_type": "execute_result"
    }
   ],
   "source": [
    "model = LogisticRegression(random_state=12345, solver='lbfgs', max_iter=1000) \n",
    "model.fit(features_train, target_train) "
   ]
  },
  {
   "cell_type": "markdown",
   "metadata": {},
   "source": [
    "## Тестирование модели"
   ]
  },
  {
   "cell_type": "code",
   "execution_count": 264,
   "metadata": {},
   "outputs": [
    {
     "data": {
      "text/plain": [
       "0.945"
      ]
     },
     "execution_count": 264,
     "metadata": {},
     "output_type": "execute_result"
    }
   ],
   "source": [
    "predictions = model.predict(features_test)\n",
    "accuracy_score(target_test, predictions)"
   ]
  },
  {
   "cell_type": "markdown",
   "metadata": {},
   "source": [
    "## Заключение"
   ]
  },
  {
   "cell_type": "markdown",
   "metadata": {},
   "source": [
    "Мы провели работу по созданию инструмента для определения токсичных комментариев для интернет-магазина. Был проделан следующий объём работ:\n",
    "\n",
    "+ Данные:\n",
    "  - загружены, \n",
    "  - исследованы и\n",
    "  - оптимизированы.\n",
    "    \n",
    "+ Провели предобучение - модель `DeepPavlov/rubert-base-cased`,\n",
    "+ Выполнили токенизацию инструментом `BertTokenizer()`,\n",
    "+ И эмбеддинг.\n",
    "\n",
    "\n",
    "Полученная модель показала существенно лучший результат f1, чем заданное заказчиком 0,75.\n",
    "Для производства выбрана логистическая регрессия.\n",
    "\n"
   ]
  },
  {
   "cell_type": "code",
   "execution_count": null,
   "metadata": {},
   "outputs": [],
   "source": []
  }
 ],
 "metadata": {
  "ExecuteTimeLog": [
   {
    "duration": 2457,
    "start_time": "2023-05-23T13:59:11.485Z"
   },
   {
    "duration": 155,
    "start_time": "2023-05-23T13:59:13.944Z"
   },
   {
    "duration": 4067,
    "start_time": "2023-05-23T13:59:14.102Z"
   },
   {
    "duration": 28604,
    "start_time": "2023-05-23T13:59:18.171Z"
   },
   {
    "duration": 2439,
    "start_time": "2023-05-24T11:40:45.240Z"
   },
   {
    "duration": 155,
    "start_time": "2023-05-24T11:40:47.682Z"
   },
   {
    "duration": 2161,
    "start_time": "2023-05-24T11:40:47.839Z"
   },
   {
    "duration": 28738,
    "start_time": "2023-05-24T11:40:50.002Z"
   },
   {
    "duration": 192016,
    "start_time": "2023-05-24T11:41:18.742Z"
   },
   {
    "duration": 3,
    "start_time": "2023-05-24T11:44:30.760Z"
   },
   {
    "duration": 37,
    "start_time": "2023-05-24T11:44:30.765Z"
   },
   {
    "duration": 3,
    "start_time": "2023-05-24T11:48:03.191Z"
   },
   {
    "duration": 4,
    "start_time": "2023-05-24T11:48:41.361Z"
   },
   {
    "duration": 26,
    "start_time": "2023-05-24T11:50:37.877Z"
   },
   {
    "duration": 296,
    "start_time": "2023-05-24T11:51:05.560Z"
   },
   {
    "duration": 4,
    "start_time": "2023-05-24T11:51:21.778Z"
   },
   {
    "duration": 20,
    "start_time": "2023-05-24T11:51:41.011Z"
   },
   {
    "duration": 4,
    "start_time": "2023-05-24T11:51:59.752Z"
   },
   {
    "duration": 4,
    "start_time": "2023-05-24T11:52:20.150Z"
   },
   {
    "duration": 4,
    "start_time": "2023-05-24T11:53:32.100Z"
   },
   {
    "duration": 5,
    "start_time": "2023-05-24T11:53:52.307Z"
   },
   {
    "duration": 7,
    "start_time": "2023-05-24T11:54:03.651Z"
   },
   {
    "duration": 4,
    "start_time": "2023-05-24T11:54:16.854Z"
   },
   {
    "duration": 7,
    "start_time": "2023-05-24T12:05:33.292Z"
   },
   {
    "duration": 14,
    "start_time": "2023-05-24T12:07:09.271Z"
   },
   {
    "duration": 2,
    "start_time": "2023-05-24T12:09:11.781Z"
   },
   {
    "duration": 16,
    "start_time": "2023-05-24T12:09:25.659Z"
   },
   {
    "duration": 17,
    "start_time": "2023-05-24T12:11:52.266Z"
   },
   {
    "duration": 18,
    "start_time": "2023-05-24T12:23:33.964Z"
   },
   {
    "duration": 8,
    "start_time": "2023-05-24T12:46:12.611Z"
   },
   {
    "duration": 4,
    "start_time": "2023-05-24T12:47:14.080Z"
   },
   {
    "duration": 3,
    "start_time": "2023-05-24T12:47:45.251Z"
   },
   {
    "duration": 3,
    "start_time": "2023-05-24T12:49:22.859Z"
   },
   {
    "duration": 3,
    "start_time": "2023-05-24T12:49:33.986Z"
   },
   {
    "duration": 4,
    "start_time": "2023-05-24T12:49:40.080Z"
   },
   {
    "duration": 3,
    "start_time": "2023-05-24T12:49:53.302Z"
   },
   {
    "duration": 4,
    "start_time": "2023-05-24T12:50:08.074Z"
   },
   {
    "duration": 3,
    "start_time": "2023-05-24T12:50:27.147Z"
   },
   {
    "duration": 5,
    "start_time": "2023-05-24T12:50:40.863Z"
   },
   {
    "duration": 3,
    "start_time": "2023-05-24T12:50:48.163Z"
   },
   {
    "duration": 4,
    "start_time": "2023-05-24T12:50:58.463Z"
   },
   {
    "duration": 4,
    "start_time": "2023-05-24T12:51:10.001Z"
   },
   {
    "duration": 3,
    "start_time": "2023-05-24T12:51:27.621Z"
   },
   {
    "duration": 4,
    "start_time": "2023-05-24T12:52:01.272Z"
   },
   {
    "duration": 4,
    "start_time": "2023-05-24T12:52:09.759Z"
   },
   {
    "duration": 3,
    "start_time": "2023-05-24T12:52:17.863Z"
   },
   {
    "duration": 3,
    "start_time": "2023-05-24T12:52:26.847Z"
   },
   {
    "duration": 4,
    "start_time": "2023-05-24T12:53:39.383Z"
   },
   {
    "duration": 4,
    "start_time": "2023-05-24T12:53:55.187Z"
   },
   {
    "duration": 4,
    "start_time": "2023-05-24T12:54:26.671Z"
   },
   {
    "duration": 3,
    "start_time": "2023-05-24T12:55:21.255Z"
   },
   {
    "duration": 5,
    "start_time": "2023-05-24T12:56:20.666Z"
   },
   {
    "duration": 3,
    "start_time": "2023-05-24T12:56:57.059Z"
   },
   {
    "duration": 5,
    "start_time": "2023-05-24T12:57:53.784Z"
   },
   {
    "duration": 5,
    "start_time": "2023-05-24T12:58:39.760Z"
   },
   {
    "duration": 141,
    "start_time": "2023-05-24T12:59:17.071Z"
   },
   {
    "duration": 149,
    "start_time": "2023-05-24T12:59:37.967Z"
   },
   {
    "duration": 138,
    "start_time": "2023-05-24T13:00:21.563Z"
   },
   {
    "duration": 134,
    "start_time": "2023-05-24T13:00:33.851Z"
   },
   {
    "duration": 139,
    "start_time": "2023-05-24T13:00:38.892Z"
   },
   {
    "duration": 136,
    "start_time": "2023-05-24T13:00:45.871Z"
   },
   {
    "duration": 160,
    "start_time": "2023-05-24T13:00:54.485Z"
   },
   {
    "duration": 140,
    "start_time": "2023-05-24T13:01:12.816Z"
   },
   {
    "duration": 174,
    "start_time": "2023-05-24T13:01:46.598Z"
   },
   {
    "duration": 5,
    "start_time": "2023-05-24T13:03:20.712Z"
   },
   {
    "duration": 5,
    "start_time": "2023-05-24T13:03:22.179Z"
   },
   {
    "duration": 5,
    "start_time": "2023-05-24T13:04:00.109Z"
   },
   {
    "duration": 9,
    "start_time": "2023-05-24T13:04:01.562Z"
   },
   {
    "duration": 5,
    "start_time": "2023-05-24T13:04:12.389Z"
   },
   {
    "duration": 7,
    "start_time": "2023-05-24T13:04:13.767Z"
   },
   {
    "duration": 5,
    "start_time": "2023-05-24T13:04:29.989Z"
   },
   {
    "duration": 183,
    "start_time": "2023-05-24T13:05:35.306Z"
   },
   {
    "duration": 23,
    "start_time": "2023-05-24T13:06:08.747Z"
   },
   {
    "duration": 17,
    "start_time": "2023-05-24T13:12:20.067Z"
   },
   {
    "duration": 16,
    "start_time": "2023-05-24T13:12:33.162Z"
   },
   {
    "duration": 5,
    "start_time": "2023-05-24T13:12:59.863Z"
   },
   {
    "duration": 3,
    "start_time": "2023-05-24T13:13:20.873Z"
   },
   {
    "duration": 5,
    "start_time": "2023-05-24T13:13:22.171Z"
   },
   {
    "duration": 6,
    "start_time": "2023-05-24T13:13:32.478Z"
   },
   {
    "duration": 5,
    "start_time": "2023-05-24T13:13:33.008Z"
   },
   {
    "duration": 143,
    "start_time": "2023-05-24T13:14:18.709Z"
   },
   {
    "duration": 4,
    "start_time": "2023-05-24T13:15:11.812Z"
   },
   {
    "duration": 4,
    "start_time": "2023-05-24T13:15:15.963Z"
   },
   {
    "duration": 135,
    "start_time": "2023-05-24T13:15:17.155Z"
   },
   {
    "duration": 4,
    "start_time": "2023-05-24T13:15:36.899Z"
   },
   {
    "duration": 10,
    "start_time": "2023-05-24T13:16:10.860Z"
   },
   {
    "duration": 4,
    "start_time": "2023-05-24T13:16:26.563Z"
   },
   {
    "duration": 5,
    "start_time": "2023-05-24T13:16:29.382Z"
   },
   {
    "duration": 18,
    "start_time": "2023-05-24T13:16:54.967Z"
   },
   {
    "duration": 7,
    "start_time": "2023-05-24T13:18:15.412Z"
   },
   {
    "duration": 8,
    "start_time": "2023-05-24T13:18:44.259Z"
   },
   {
    "duration": 3,
    "start_time": "2023-05-24T13:20:20.182Z"
   },
   {
    "duration": 133,
    "start_time": "2023-05-24T13:20:21.363Z"
   },
   {
    "duration": 16,
    "start_time": "2023-05-24T13:22:08.302Z"
   },
   {
    "duration": 7,
    "start_time": "2023-05-24T13:22:13.967Z"
   },
   {
    "duration": 4,
    "start_time": "2023-05-24T13:22:15.193Z"
   },
   {
    "duration": 8,
    "start_time": "2023-05-24T13:22:16.088Z"
   },
   {
    "duration": 4,
    "start_time": "2023-05-24T13:23:51.811Z"
   },
   {
    "duration": 4,
    "start_time": "2023-05-24T13:23:52.667Z"
   },
   {
    "duration": 6,
    "start_time": "2023-05-24T13:23:53.512Z"
   },
   {
    "duration": 19,
    "start_time": "2023-05-24T13:23:55.131Z"
   },
   {
    "duration": 5,
    "start_time": "2023-05-24T13:24:15.754Z"
   },
   {
    "duration": 5,
    "start_time": "2023-05-24T13:25:48.867Z"
   },
   {
    "duration": 7,
    "start_time": "2023-05-24T13:35:02.122Z"
   },
   {
    "duration": 6,
    "start_time": "2023-05-24T13:36:24.398Z"
   },
   {
    "duration": 8,
    "start_time": "2023-05-24T13:37:18.972Z"
   },
   {
    "duration": 7,
    "start_time": "2023-05-24T13:37:48.055Z"
   },
   {
    "duration": 29,
    "start_time": "2023-05-24T13:38:15.272Z"
   },
   {
    "duration": 4,
    "start_time": "2023-05-24T13:38:19.396Z"
   },
   {
    "duration": 20,
    "start_time": "2023-05-24T13:38:28.484Z"
   },
   {
    "duration": 6,
    "start_time": "2023-05-24T13:39:47.584Z"
   },
   {
    "duration": 10,
    "start_time": "2023-05-24T13:39:49.664Z"
   },
   {
    "duration": 5,
    "start_time": "2023-05-24T13:40:22.018Z"
   },
   {
    "duration": 2577,
    "start_time": "2023-05-24T13:43:33.782Z"
   },
   {
    "duration": 3,
    "start_time": "2023-05-24T13:44:12.913Z"
   },
   {
    "duration": 6157,
    "start_time": "2023-05-24T13:44:25.093Z"
   },
   {
    "duration": 3455,
    "start_time": "2023-05-25T05:49:29.996Z"
   },
   {
    "duration": 202,
    "start_time": "2023-05-25T05:49:33.454Z"
   },
   {
    "duration": 12,
    "start_time": "2023-05-25T05:49:47.417Z"
   },
   {
    "duration": 44,
    "start_time": "2023-05-25T05:50:12.788Z"
   },
   {
    "duration": 6,
    "start_time": "2023-05-25T05:50:14.626Z"
   },
   {
    "duration": 41,
    "start_time": "2023-05-25T05:50:38.295Z"
   },
   {
    "duration": 6,
    "start_time": "2023-05-25T05:50:42.495Z"
   },
   {
    "duration": 15,
    "start_time": "2023-05-25T05:52:04.295Z"
   },
   {
    "duration": 45,
    "start_time": "2023-05-25T05:53:08.155Z"
   },
   {
    "duration": 8,
    "start_time": "2023-05-25T05:53:09.009Z"
   },
   {
    "duration": 11,
    "start_time": "2023-05-25T05:53:10.850Z"
   },
   {
    "duration": 11,
    "start_time": "2023-05-25T05:53:40.888Z"
   },
   {
    "duration": 12,
    "start_time": "2023-05-25T05:54:34.589Z"
   },
   {
    "duration": 44,
    "start_time": "2023-05-25T05:54:43.041Z"
   },
   {
    "duration": 6,
    "start_time": "2023-05-25T05:54:44.925Z"
   },
   {
    "duration": 14,
    "start_time": "2023-05-25T05:54:54.551Z"
   }
  ],
  "kernelspec": {
   "display_name": "Python 3 (ipykernel)",
   "language": "python",
   "name": "python3"
  },
  "language_info": {
   "codemirror_mode": {
    "name": "ipython",
    "version": 3
   },
   "file_extension": ".py",
   "mimetype": "text/x-python",
   "name": "python",
   "nbconvert_exporter": "python",
   "pygments_lexer": "ipython3",
   "version": "3.11.3"
  },
  "toc": {
   "base_numbering": 1,
   "nav_menu": {},
   "number_sections": true,
   "sideBar": true,
   "skip_h1_title": true,
   "title_cell": "Содержание",
   "title_sidebar": "Contents",
   "toc_cell": true,
   "toc_position": {
    "height": "calc(100% - 180px)",
    "left": "10px",
    "top": "150px",
    "width": "401.4px"
   },
   "toc_section_display": true,
   "toc_window_display": true
  }
 },
 "nbformat": 4,
 "nbformat_minor": 2
}
